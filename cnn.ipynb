{
 "metadata": {
  "language_info": {
   "codemirror_mode": {
    "name": "ipython",
    "version": 3
   },
   "file_extension": ".py",
   "mimetype": "text/x-python",
   "name": "python",
   "nbconvert_exporter": "python",
   "pygments_lexer": "ipython3",
   "version": "3.6.13"
  },
  "orig_nbformat": 2,
  "kernelspec": {
   "name": "python3613jvsc74a57bd0005fd61b403ca84a45cc259c31144f5d9e05c700f61a6b3e04c5151a6b4691b5",
   "display_name": "Python 3.6.13 64-bit ('ai': conda)"
  }
 },
 "nbformat": 4,
 "nbformat_minor": 2,
 "cells": [
  {
   "source": [
    "# Convolutional Nueral Network"
   ],
   "cell_type": "markdown",
   "metadata": {}
  },
  {
   "cell_type": "code",
   "execution_count": 3,
   "metadata": {},
   "outputs": [
    {
     "output_type": "execute_result",
     "data": {
      "text/plain": [
       "'2.0.0'"
      ]
     },
     "metadata": {},
     "execution_count": 3
    }
   ],
   "source": [
    "# import libraries\n",
    "\n",
    "import tensorflow as tf\n",
    "from tensorflow.keras.preprocessing.image import ImageDataGenerator\n",
    "\n",
    "tf.__version__"
   ]
  },
  {
   "source": [
    "## Data Processing "
   ],
   "cell_type": "markdown",
   "metadata": {}
  },
  {
   "source": [
    "### Training Set"
   ],
   "cell_type": "markdown",
   "metadata": {}
  },
  {
   "cell_type": "code",
   "execution_count": 4,
   "metadata": {},
   "outputs": [
    {
     "output_type": "stream",
     "name": "stdout",
     "text": [
      "Found 8000 images belonging to 2 classes.\n"
     ]
    }
   ],
   "source": [
    "# Training set images augmentation to avoid overfitting \n",
    "\n",
    "train_datagen = ImageDataGenerator (\n",
    "    rescale = 1./255,\n",
    "    shear_range = 0.2,\n",
    "    zoom_range = 0.2 ,\n",
    "    horizontal_flip = True\n",
    ")\n",
    "\n",
    "\n",
    "training_set = train_datagen.flow_from_directory('dataset/training_set',\n",
    "                                                 target_size = (64, 64),\n",
    "                                                 batch_size = 32,\n",
    "                                                 class_mode = 'binary')"
   ]
  },
  {
   "source": [
    "### Testing Set"
   ],
   "cell_type": "markdown",
   "metadata": {}
  },
  {
   "cell_type": "code",
   "execution_count": 5,
   "metadata": {},
   "outputs": [
    {
     "output_type": "stream",
     "name": "stdout",
     "text": [
      "Found 2000 images belonging to 2 classes.\n"
     ]
    }
   ],
   "source": [
    "test_datagen =  ImageDataGenerator ( rescale = 1./255)\n",
    "\n",
    "test_set = test_datagen.flow_from_directory ('dataset/test_set',\n",
    "                                            target_size = (64,64),\n",
    "                                            batch_size = 32,\n",
    "                                            class_mode= 'binary'\n",
    "    )"
   ]
  },
  {
   "source": [
    "## Building The CNN"
   ],
   "cell_type": "markdown",
   "metadata": {}
  },
  {
   "source": [
    "### Initializing the CNN"
   ],
   "cell_type": "markdown",
   "metadata": {}
  },
  {
   "cell_type": "code",
   "execution_count": 6,
   "metadata": {},
   "outputs": [],
   "source": [
    "from tensorflow.keras.models import Sequential \n",
    "from tensorflow.keras.layers import Conv2D, MaxPool2D, Flatten, Dense\n",
    "\n",
    "cnn = Sequential() "
   ]
  },
  {
   "source": [
    "#### Layers"
   ],
   "cell_type": "markdown",
   "metadata": {}
  },
  {
   "cell_type": "code",
   "execution_count": 7,
   "metadata": {},
   "outputs": [],
   "source": [
    "# 1st Convolutional Layer\n",
    "cnn.add(Conv2D(filters=32, kernel_size = 3, activation =\"relu\", input_shape=(64,64,3)))"
   ]
  },
  {
   "cell_type": "code",
   "execution_count": 8,
   "metadata": {},
   "outputs": [],
   "source": [
    "# Pooling \n",
    "cnn.add(MaxPool2D(pool_size = 2, strides = 2))"
   ]
  },
  {
   "cell_type": "code",
   "execution_count": 9,
   "metadata": {},
   "outputs": [],
   "source": [
    "# 2nd Convolutional Layer\n",
    "cnn.add(Conv2D(filters=32, kernel_size = 3, activation =\"relu\"))\n",
    "\n",
    "# 2nd Pooling layers\n",
    "cnn.add(MaxPool2D(pool_size = 2, strides = 2))"
   ]
  },
  {
   "cell_type": "code",
   "execution_count": 10,
   "metadata": {},
   "outputs": [],
   "source": [
    "# Flattening Layer\n",
    "cnn.add(Flatten())"
   ]
  },
  {
   "cell_type": "code",
   "execution_count": 11,
   "metadata": {},
   "outputs": [],
   "source": [
    "# Full COnnection\n",
    "cnn.add(Dense(units = 128, activation = \"relu\"))\n"
   ]
  },
  {
   "cell_type": "code",
   "execution_count": 12,
   "metadata": {},
   "outputs": [],
   "source": [
    "# Final Output Layer\n",
    "cnn.add(Dense(units = 1, activation = 'sigmoid'))"
   ]
  },
  {
   "source": [
    "## Training The CNN"
   ],
   "cell_type": "markdown",
   "metadata": {}
  },
  {
   "source": [
    " #### Compiling the CNN"
   ],
   "cell_type": "markdown",
   "metadata": {}
  },
  {
   "cell_type": "code",
   "execution_count": 13,
   "metadata": {},
   "outputs": [],
   "source": [
    "cnn.compile(optimzer = \"adma\", loss=\"binary_crossentropy\", metrics = ['accuracy'])"
   ]
  },
  {
   "cell_type": "code",
   "execution_count": 14,
   "metadata": {},
   "outputs": [
    {
     "output_type": "stream",
     "name": "stdout",
     "text": [
      "Train for 250 steps, validate for 63 steps\n",
      "Epoch 1/25\n",
      "250/250 [==============================] - 111s 443ms/step - loss: 0.6752 - accuracy: 0.5939 - val_loss: 0.6256 - val_accuracy: 0.6610\n",
      "Epoch 2/25\n",
      "250/250 [==============================] - 94s 376ms/step - loss: 0.6105 - accuracy: 0.6662 - val_loss: 0.5653 - val_accuracy: 0.7165\n",
      "Epoch 3/25\n",
      "250/250 [==============================] - 93s 370ms/step - loss: 0.5663 - accuracy: 0.7056 - val_loss: 0.5686 - val_accuracy: 0.7230\n",
      "Epoch 4/25\n",
      "250/250 [==============================] - 87s 348ms/step - loss: 0.5353 - accuracy: 0.7335 - val_loss: 0.5045 - val_accuracy: 0.7580\n",
      "Epoch 5/25\n",
      "250/250 [==============================] - 93s 374ms/step - loss: 0.5062 - accuracy: 0.7526 - val_loss: 0.4918 - val_accuracy: 0.7655\n",
      "Epoch 6/25\n",
      "250/250 [==============================] - 89s 358ms/step - loss: 0.4859 - accuracy: 0.7598 - val_loss: 0.4764 - val_accuracy: 0.7840\n",
      "Epoch 7/25\n",
      "250/250 [==============================] - 90s 358ms/step - loss: 0.4778 - accuracy: 0.7726 - val_loss: 0.5117 - val_accuracy: 0.7720\n",
      "Epoch 8/25\n",
      "250/250 [==============================] - 88s 352ms/step - loss: 0.4604 - accuracy: 0.7865 - val_loss: 0.4770 - val_accuracy: 0.7805\n",
      "Epoch 9/25\n",
      "250/250 [==============================] - 83s 333ms/step - loss: 0.4474 - accuracy: 0.7891 - val_loss: 0.4937 - val_accuracy: 0.7815\n",
      "Epoch 10/25\n",
      "250/250 [==============================] - 71s 284ms/step - loss: 0.4416 - accuracy: 0.7920 - val_loss: 0.4627 - val_accuracy: 0.7830\n",
      "Epoch 11/25\n",
      "250/250 [==============================] - 71s 282ms/step - loss: 0.4253 - accuracy: 0.7989 - val_loss: 0.4681 - val_accuracy: 0.7905\n",
      "Epoch 12/25\n",
      "250/250 [==============================] - 70s 281ms/step - loss: 0.4239 - accuracy: 0.8049 - val_loss: 0.4580 - val_accuracy: 0.7930\n",
      "Epoch 13/25\n",
      "250/250 [==============================] - 70s 279ms/step - loss: 0.4050 - accuracy: 0.8196 - val_loss: 0.4670 - val_accuracy: 0.7830\n",
      "Epoch 14/25\n",
      "250/250 [==============================] - 72s 289ms/step - loss: 0.3927 - accuracy: 0.8231 - val_loss: 0.4681 - val_accuracy: 0.8065\n",
      "Epoch 15/25\n",
      "250/250 [==============================] - 70s 278ms/step - loss: 0.3842 - accuracy: 0.8251 - val_loss: 0.4766 - val_accuracy: 0.7970\n",
      "Epoch 16/25\n",
      "250/250 [==============================] - 71s 282ms/step - loss: 0.3787 - accuracy: 0.8288 - val_loss: 0.5208 - val_accuracy: 0.7835\n",
      "Epoch 17/25\n",
      "250/250 [==============================] - 70s 282ms/step - loss: 0.3688 - accuracy: 0.8394 - val_loss: 0.4585 - val_accuracy: 0.8070\n",
      "Epoch 18/25\n",
      "250/250 [==============================] - 70s 282ms/step - loss: 0.3564 - accuracy: 0.8434 - val_loss: 0.5032 - val_accuracy: 0.7695\n",
      "Epoch 19/25\n",
      "250/250 [==============================] - 84s 336ms/step - loss: 0.3570 - accuracy: 0.8400 - val_loss: 0.4868 - val_accuracy: 0.7780\n",
      "Epoch 20/25\n",
      "250/250 [==============================] - 87s 349ms/step - loss: 0.3382 - accuracy: 0.8562 - val_loss: 0.4846 - val_accuracy: 0.7945\n",
      "Epoch 21/25\n",
      "250/250 [==============================] - 88s 352ms/step - loss: 0.3393 - accuracy: 0.8520 - val_loss: 0.5102 - val_accuracy: 0.7790\n",
      "Epoch 22/25\n",
      "250/250 [==============================] - 93s 372ms/step - loss: 0.3241 - accuracy: 0.8609 - val_loss: 0.4566 - val_accuracy: 0.8115\n",
      "Epoch 23/25\n",
      "250/250 [==============================] - 89s 355ms/step - loss: 0.3144 - accuracy: 0.8668 - val_loss: 0.5048 - val_accuracy: 0.8085\n",
      "Epoch 24/25\n",
      "250/250 [==============================] - 89s 355ms/step - loss: 0.3109 - accuracy: 0.8686 - val_loss: 0.4688 - val_accuracy: 0.8080\n",
      "Epoch 25/25\n",
      "250/250 [==============================] - 87s 348ms/step - loss: 0.3054 - accuracy: 0.8676 - val_loss: 0.5517 - val_accuracy: 0.7960\n"
     ]
    },
    {
     "output_type": "execute_result",
     "data": {
      "text/plain": [
       "<tensorflow.python.keras.callbacks.History at 0x1cb0f7fe630>"
      ]
     },
     "metadata": {},
     "execution_count": 14
    }
   ],
   "source": [
    "# training nad testing model\n",
    "\n",
    "cnn.fit(x=training_set, validation_data = test_set, epochs = 25 )"
   ]
  },
  {
   "cell_type": "code",
   "execution_count": 17,
   "metadata": {},
   "outputs": [],
   "source": [
    "# Single prediction\n",
    "\n",
    "import numpy as numpy\n",
    "from tensorflow.keras.preprocessing import image \n",
    "\n",
    "test_image = image.load_img('dataset/single_prediction/cat_or_dog_1.jpg')\n",
    "\n",
    "# Convert image to numpy array\n",
    "test_image = image.img_to_array(test_image)\n",
    "test_image = np.expand_dims(test_image, axis = 0)\n",
    "\n",
    "# Predict\n",
    "result = cnn.predict(test_image)\n"
   ]
  },
  {
   "cell_type": "code",
   "execution_count": null,
   "metadata": {},
   "outputs": [],
   "source": []
  }
 ]
}